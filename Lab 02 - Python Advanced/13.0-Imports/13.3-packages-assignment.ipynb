{
 "cells": [
  {
   "cell_type": "markdown",
   "metadata": {},
   "source": [
    "# Module 5: Modules and Packages Assignments\n",
    "## Lesson 5.1: Importing Modules\n",
    "### Assignment 1: Importing and Using Modules\n",
    "\n",
    "Import the `math` module and use it to calculate the square root of 25 and the sine of 90 degrees.\n",
    "\n",
    "### Assignment 2: Aliasing Modules\n",
    "\n",
    "Import the `datetime` module with an alias and use it to print the current date and time.\n",
    "\n",
    "### Assignment 3: Importing Specific Functions\n",
    "\n",
    "Import the `randint` function from the `random` module and use it to generate a random integer between 1 and 100.\n",
    "\n",
    "### Assignment 4: Importing Multiple Functions\n",
    "\n",
    "Import the `sqrt` and `pow` functions from the `math` module and use them to calculate the square root of 16 and 2 raised to the power of 3.\n",
    "\n",
    "### Assignment 5: Handling Import Errors\n",
    "\n",
    "Write code that attempts to import a non-existent module and gracefully handles the import error by printing an error message.\n",
    "\n",
    "## Lesson 5.2: Standard Library Overview\n",
    "### Assignment 6: Working with the `os` Module\n",
    "\n",
    "Use the `os` module to create a new directory, list the contents of the current directory, and remove the newly created directory.\n",
    "\n",
    "### Assignment 7: Working with the `sys` Module\n",
    "\n",
    "Use the `sys` module to print the Python version currently in use and the command-line arguments passed to the script.\n",
    "\n",
    "### Assignment 8: Working with the `math` Module\n",
    "\n",
    "Use the `math` module to calculate the greatest common divisor (GCD) of two numbers and the factorial of a number.\n",
    "\n",
    "### Assignment 9: Working with the `datetime` Module\n",
    "\n",
    "Use the `datetime` module to print the current date, calculate the date 100 days from today, and determine the day of the week for a given date.\n",
    "\n",
    "### Assignment 10: Working with the `random` Module\n",
    "\n",
    "Use the `random` module to generate a list of 5 random numbers between 1 and 50 and shuffle the elements of a list.\n",
    "\n",
    "## Lesson 5.3: Creating and Using Packages\n",
    "### Assignment 11: Creating a Simple Package\n",
    "\n",
    "Create a package named `mypackage` with two modules: `module1` and `module2`. `module1` should contain a function that adds two numbers, and `module2` should contain a function that multiplies two numbers. Write code to use these functions.\n",
    "\n",
    "### Assignment 12: Using `__init__.py`\n",
    "\n",
    "Modify the `mypackage` package to include an `__init__.py` file that imports the functions from `module1` and `module2`. Write code to use these functions.\n",
    "\n",
    "### Assignment 13: Importing from a Package\n",
    "\n",
    "Write code to import and use the functions from `mypackage` without explicitly importing `module1` and `module2`.\n",
    "\n",
    "### Assignment 14: Relative Imports\n",
    "\n",
    "Create a subpackage named `subpackage` within `mypackage` and move `module2` into `subpackage`. Modify the import statements in `__init__.py` to use relative imports. Write code to use the functions from both modules.\n",
    "\n",
    "### Assignment 15: Handling Package Import Errors\n",
    "\n",
    "Write code that attempts to import a non-existent function from `mypackage` and gracefully handles the import error by printing an error message."
   ]
  },
  {
   "cell_type": "code",
   "execution_count": 7,
   "metadata": {},
   "outputs": [
    {
     "name": "stdout",
     "output_type": "stream",
     "text": [
      "1.0\n",
      "5.0\n"
     ]
    }
   ],
   "source": [
    "# Import the `math` module and use it to calculate the square root of 25 and the sine of 90 degrees.\n",
    "import math\n",
    "sqiare= math.sqrt(25)\n",
    "sin90=math.sin(math.radians(90))\n",
    "print(sin90)\n",
    "print(sqiare)"
   ]
  },
  {
   "cell_type": "code",
   "execution_count": 9,
   "id": "865b712b",
   "metadata": {},
   "outputs": [
    {
     "name": "stdout",
     "output_type": "stream",
     "text": [
      "2025-03-16 22:09:31.795935\n"
     ]
    }
   ],
   "source": [
    "# Import the `datetime` module with an alias and use it to print the current date and time.\n",
    "import datetime as date\n",
    "\n",
    "now =date.datetime.now()\n",
    "print(now)"
   ]
  },
  {
   "cell_type": "code",
   "execution_count": 13,
   "id": "fd84eafd",
   "metadata": {},
   "outputs": [
    {
     "data": {
      "text/plain": [
       "50"
      ]
     },
     "execution_count": 13,
     "metadata": {},
     "output_type": "execute_result"
    }
   ],
   "source": [
    "# Import the `randint` function from the `random` module and use it to generate a random integer between 1 and 100.\n",
    "import random\n",
    "rannum = random.randint(1,100)\n",
    "rannum"
   ]
  },
  {
   "cell_type": "code",
   "execution_count": 2,
   "id": "7d4af9ec",
   "metadata": {},
   "outputs": [
    {
     "data": {
      "text/plain": [
       "8.0"
      ]
     },
     "execution_count": 2,
     "metadata": {},
     "output_type": "execute_result"
    }
   ],
   "source": [
    "# Import the `sqrt` and `pow` functions from the `math` module and use them to calculate the square root of 16 and 2 raised to the power of 3.\n",
    "import math\n",
    "square = math.sqrt(16)\n",
    "pow= math.pow(2,3)\n",
    "square\n",
    "pow"
   ]
  },
  {
   "cell_type": "code",
   "execution_count": null,
   "id": "0673cf7c",
   "metadata": {},
   "outputs": [],
   "source": [
    "# Write code that attempts to import a non-existent module and gracefully handles the import error by printing an error message.\n"
   ]
  },
  {
   "cell_type": "code",
   "execution_count": 8,
   "id": "130b46da",
   "metadata": {},
   "outputs": [
    {
     "name": "stdout",
     "output_type": "stream",
     "text": [
      "Directory 'first_Directory' created.\n",
      "Contents of current directory: ['.DS_Store', '13.1-import.ipynb', '13.2-standard-library.ipynb', '13.3-packages-assignment.ipynb', 'commands.png', 'destination.txt', 'example.csv', 'first_Directory', 'package', 'readme.txt', 'requirements.txt', 'source.txt']\n",
      "Directory 'first_Directory' removed.\n",
      "Updated contents of current directory: ['.DS_Store', '13.1-import.ipynb', '13.2-standard-library.ipynb', '13.3-packages-assignment.ipynb', 'commands.png', 'destination.txt', 'example.csv', 'package', 'readme.txt', 'requirements.txt', 'source.txt']\n"
     ]
    }
   ],
   "source": [
    "# Use the `os` module to create a new directory, list the contents of the current directory, and remove the newly created directory.\n",
    "import os\n",
    "\n",
    "dir_name = \"first_Directory\"\n",
    "os.mkdir(dir_name)\n",
    "print(f\"Directory '{dir_name}' created.\")\n",
    "\n",
    "print(\"Contents of current directory:\", os.listdir())\n",
    "\n",
    "os.rmdir(dir_name)\n",
    "print(f\"Directory '{dir_name}' removed.\")\n",
    "\n",
    "print(\"Updated contents of current directory:\", os.listdir())"
   ]
  },
  {
   "cell_type": "code",
   "execution_count": 10,
   "id": "d343cdd5",
   "metadata": {},
   "outputs": [
    {
     "data": {
      "text/plain": [
       "'3.13.2 (tags/v3.13.2:4f8bb39, Feb  4 2025, 15:23:48) [MSC v.1942 64 bit (AMD64)]'"
      ]
     },
     "execution_count": 10,
     "metadata": {},
     "output_type": "execute_result"
    }
   ],
   "source": [
    "# Use the `sys` module to print the Python version currently in use and the command-line arguments passed to the script.\n",
    "import sys\n",
    "\n",
    "pytonversion= sys.version\n",
    "pytonversion"
   ]
  },
  {
   "cell_type": "code",
   "execution_count": 12,
   "id": "77dcfc0d",
   "metadata": {},
   "outputs": [
    {
     "data": {
      "text/plain": [
       "479001600"
      ]
     },
     "execution_count": 12,
     "metadata": {},
     "output_type": "execute_result"
    }
   ],
   "source": [
    "# Use the `math` module to calculate the greatest common divisor (GCD) of two numbers and the factorial of a number.\n",
    "import math\n",
    "num1=12\n",
    "num2=30\n",
    "\n",
    "GCD= math.gcd(num1,num2)\n",
    "GCD\n",
    "\n",
    "fictorial = math.factorial(num1)\n",
    "fictorial"
   ]
  },
  {
   "cell_type": "code",
   "execution_count": 17,
   "id": "aa5e4b4a",
   "metadata": {},
   "outputs": [
    {
     "name": "stdout",
     "output_type": "stream",
     "text": [
      "Current Date: 2025-03-16\n",
      "Date 100 days from today: 2025-06-24\n"
     ]
    }
   ],
   "source": [
    "# Use the `datetime` module to print the current date, calculate the date 100 days from today, and determine the day of the week for a given date.\n",
    "from datetime import datetime, timedelta\n",
    "\n",
    "current_date = datetime.today()\n",
    "print(\"Current Date:\", current_date.strftime(\"%Y-%m-%d\"))\n",
    "\n",
    "future_date = current_date + timedelta(days=100)\n",
    "print(\"Date 100 days from today:\", future_date.strftime(\"%Y-%m-%d\"))\n"
   ]
  },
  {
   "cell_type": "code",
   "execution_count": 23,
   "id": "5eda4e55",
   "metadata": {},
   "outputs": [
    {
     "name": "stdout",
     "output_type": "stream",
     "text": [
      "[33, 50, 18, 39, 27, 28, 35, 4]\n",
      "Shuffled List: [18, 50, 35, 4, 27, 33, 28, 39]\n"
     ]
    }
   ],
   "source": [
    "# Use the `random` module to generate a list of 5 random numbers between 1 and 50 and shuffle the elements of a list.\n",
    "import random\n",
    "ramdom_num= [random.randint(1,50) for _ in range(8)]\n",
    "print(ramdom_num)\n",
    "\n",
    "\n",
    "random.shuffle(ramdom_num)  \n",
    "print(\"Shuffled List:\", ramdom_num)"
   ]
  },
  {
   "cell_type": "code",
   "execution_count": 26,
   "id": "a8393de4",
   "metadata": {},
   "outputs": [
    {
     "ename": "ImportError",
     "evalue": "cannot import name 'add_numbers' from 'mypackage.module1' (e:\\pythonAI\\Pythonforme\\Lab 02 - Python Advanced\\13.0-Imports\\mypackage\\module1.py)",
     "output_type": "error",
     "traceback": [
      "\u001b[1;31m---------------------------------------------------------------------------\u001b[0m",
      "\u001b[1;31mImportError\u001b[0m                               Traceback (most recent call last)",
      "Cell \u001b[1;32mIn[26], line 2\u001b[0m\n\u001b[0;32m      1\u001b[0m \u001b[38;5;66;03m# Create a package named `mypackage` with two modules: `module1` and `module2`. `module1` should contain a function that adds two numbers, and `module2` should contain a function that multiplies two numbers. Write code to use these functions.\u001b[39;00m\n\u001b[1;32m----> 2\u001b[0m \u001b[38;5;28;01mfrom\u001b[39;00m\u001b[38;5;250m \u001b[39m\u001b[38;5;21;01mmypackage\u001b[39;00m\u001b[38;5;21;01m.\u001b[39;00m\u001b[38;5;21;01mmodule1\u001b[39;00m\u001b[38;5;250m \u001b[39m\u001b[38;5;28;01mimport\u001b[39;00m add_numbers\n\u001b[0;32m      3\u001b[0m \u001b[38;5;28;01mfrom\u001b[39;00m\u001b[38;5;250m \u001b[39m\u001b[38;5;21;01mmypackage\u001b[39;00m\u001b[38;5;21;01m.\u001b[39;00m\u001b[38;5;21;01mmodule2\u001b[39;00m\u001b[38;5;250m \u001b[39m\u001b[38;5;28;01mimport\u001b[39;00m multiply_numbers\n\u001b[0;32m      5\u001b[0m \u001b[38;5;66;03m# Use the functions\u001b[39;00m\n",
      "\u001b[1;31mImportError\u001b[0m: cannot import name 'add_numbers' from 'mypackage.module1' (e:\\pythonAI\\Pythonforme\\Lab 02 - Python Advanced\\13.0-Imports\\mypackage\\module1.py)"
     ]
    }
   ],
   "source": [
    "# Create a package named `mypackage` with two modules: `module1` and `module2`. `module1` should contain a function that adds two numbers, and `module2` should contain a function that multiplies two numbers. Write code to use these functions.\n",
    "from mypackage.module1 import add_numbers\n",
    "from mypackage.module2 import multiply_numbers\n",
    "\n",
    "# Use the functions\n",
    "sum_result = add_numbers(5, 3)\n",
    "product_result = multiply_numbers(4, 6)\n",
    "\n",
    "# Print the results\n",
    "print(\"Sum:\", sum_result)\n",
    "print(\"Product:\", product_result)"
   ]
  },
  {
   "cell_type": "code",
   "execution_count": null,
   "id": "a9bb3ac4",
   "metadata": {},
   "outputs": [],
   "source": [
    "# Modify the `mypackage` package to include an `__init__.py` file that imports the functions from `module1` and `module2`. Write code to use these functions.\n"
   ]
  },
  {
   "cell_type": "code",
   "execution_count": null,
   "id": "c299df5d",
   "metadata": {},
   "outputs": [],
   "source": [
    "# Write code to import and use the functions from `mypackage` without explicitly importing `module1` and `module2`.\n"
   ]
  },
  {
   "cell_type": "code",
   "execution_count": null,
   "id": "210bce1a",
   "metadata": {},
   "outputs": [],
   "source": [
    "# Create a subpackage named `subpackage` within `mypackage` and move `module2` into `subpackage`. Modify the import statements in `__init__.py` to use relative imports. Write code to use the functions from both modules.\n"
   ]
  },
  {
   "cell_type": "code",
   "execution_count": null,
   "id": "1f8cf1b0",
   "metadata": {},
   "outputs": [],
   "source": [
    "# Write code that attempts to import a non-existent function from `mypackage` and gracefully handles the import error by printing an error message."
   ]
  }
 ],
 "metadata": {
  "kernelspec": {
   "display_name": "Python 3",
   "language": "python",
   "name": "python3"
  },
  "language_info": {
   "codemirror_mode": {
    "name": "ipython",
    "version": 3
   },
   "file_extension": ".py",
   "mimetype": "text/x-python",
   "name": "python",
   "nbconvert_exporter": "python",
   "pygments_lexer": "ipython3",
   "version": "3.13.2"
  }
 },
 "nbformat": 4,
 "nbformat_minor": 5
}
